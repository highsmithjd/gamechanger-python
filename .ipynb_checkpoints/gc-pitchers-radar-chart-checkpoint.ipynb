{
 "cells": [
  {
   "cell_type": "code",
   "execution_count": 1,
   "metadata": {},
   "outputs": [],
   "source": [
    "# I had issues installing soccerplots so i ran the commands commented out below, restarted the Kernel, and it worked\n",
    "# https://stackoverflow.com/questions/42321784/jupyter-modulenotfounderror-no-module-named-matplotlib\n",
    "\n",
    "#import sys  \n",
    "#!{sys.executable} -m pip install --user soccerplots"
   ]
  },
  {
   "cell_type": "code",
   "execution_count": 2,
   "metadata": {},
   "outputs": [],
   "source": [
    "# Install needed modules\n",
    "\n",
    "import pandas as pd\n",
    "import matplotlib.pyplot as plt\n",
    "from soccerplots.radar_chart import Radar"
   ]
  },
  {
   "cell_type": "code",
   "execution_count": 3,
   "metadata": {},
   "outputs": [],
   "source": [
    "# read the GcExport.csv in the data folder\n",
    "# skip the first row since it's not needed\n",
    "\n",
    "gc_stats = pd.read_csv('data/GcExport.csv', skiprows=1)"
   ]
  },
  {
   "cell_type": "code",
   "execution_count": 22,
   "metadata": {},
   "outputs": [],
   "source": [
    "# drop the rows with NaN values and assign to gc_stats_pitching_na\n",
    "# this should remove the Totals row and the row with stat descriptions, leaving only player rows\n",
    "\n",
    "gc_stats = gc_stats.dropna()\n",
    "\n",
    "# change the Innings Pitched (IP) column to numeric\n",
    "\n",
    "gc_stats[\"IP\"] = pd.to_numeric(gc_stats[\"IP\"])"
   ]
  },
  {
   "cell_type": "code",
   "execution_count": 23,
   "metadata": {},
   "outputs": [],
   "source": [
    "# creating a new dataframe named gc_stats_pitchers\n",
    "# using .drop() to select all rows but drop the batting columns\n",
    "\n",
    "gc_stats_pitching = gc_stats.drop(gc_stats.iloc[:, 3:54], axis = 1)"
   ]
  },
  {
   "cell_type": "code",
   "execution_count": 26,
   "metadata": {},
   "outputs": [],
   "source": [
    "# make a new dataframe with only players who have innings pitched greater than 0\n",
    "\n",
    "gc_stats_IP = gc_stats_pitching[gc_stats_pitching[\"IP\"] != 0]"
   ]
  },
  {
   "cell_type": "code",
   "execution_count": 27,
   "metadata": {},
   "outputs": [],
   "source": [
    "# new dataframe with only the columns we need for the radar chart\n",
    "\n",
    "gc_stats_pitchers_only = gc_stats_IP[[\"Number\", \"Last\", \"First\", \"IP\", \"ERA\", \"SO.1\", \"WHIP\", \"BB.1\", \"BAA\", \"FIP\"]]"
   ]
  },
  {
   "cell_type": "code",
   "execution_count": 28,
   "metadata": {},
   "outputs": [
    {
     "data": {
      "text/html": [
       "<div>\n",
       "<style scoped>\n",
       "    .dataframe tbody tr th:only-of-type {\n",
       "        vertical-align: middle;\n",
       "    }\n",
       "\n",
       "    .dataframe tbody tr th {\n",
       "        vertical-align: top;\n",
       "    }\n",
       "\n",
       "    .dataframe thead th {\n",
       "        text-align: right;\n",
       "    }\n",
       "</style>\n",
       "<table border=\"1\" class=\"dataframe\">\n",
       "  <thead>\n",
       "    <tr style=\"text-align: right;\">\n",
       "      <th></th>\n",
       "      <th>Number</th>\n",
       "      <th>Last</th>\n",
       "      <th>First</th>\n",
       "      <th>IP</th>\n",
       "      <th>ERA</th>\n",
       "      <th>SO.1</th>\n",
       "      <th>WHIP</th>\n",
       "      <th>BB.1</th>\n",
       "      <th>BAA</th>\n",
       "      <th>FIP</th>\n",
       "    </tr>\n",
       "  </thead>\n",
       "  <tbody>\n",
       "    <tr>\n",
       "      <th>5</th>\n",
       "      <td>9</td>\n",
       "      <td>V</td>\n",
       "      <td>Lauren</td>\n",
       "      <td>7.2</td>\n",
       "      <td>21</td>\n",
       "      <td>2</td>\n",
       "      <td>3.783</td>\n",
       "      <td>8</td>\n",
       "      <td>0.447</td>\n",
       "      <td>6.751</td>\n",
       "    </tr>\n",
       "    <tr>\n",
       "      <th>8</th>\n",
       "      <td>13</td>\n",
       "      <td>W</td>\n",
       "      <td>Kyler</td>\n",
       "      <td>30.1</td>\n",
       "      <td>4.385</td>\n",
       "      <td>16</td>\n",
       "      <td>1.418</td>\n",
       "      <td>13</td>\n",
       "      <td>0.236</td>\n",
       "      <td>3.715</td>\n",
       "    </tr>\n",
       "    <tr>\n",
       "      <th>12</th>\n",
       "      <td>44</td>\n",
       "      <td>R</td>\n",
       "      <td>Taylor</td>\n",
       "      <td>36.2</td>\n",
       "      <td>2.864</td>\n",
       "      <td>39</td>\n",
       "      <td>1.255</td>\n",
       "      <td>7</td>\n",
       "      <td>0.241</td>\n",
       "      <td>1.771</td>\n",
       "    </tr>\n",
       "  </tbody>\n",
       "</table>\n",
       "</div>"
      ],
      "text/plain": [
       "   Number Last   First    IP    ERA SO.1   WHIP BB.1    BAA    FIP\n",
       "5       9    V  Lauren   7.2     21    2  3.783    8  0.447  6.751\n",
       "8      13    W   Kyler  30.1  4.385   16  1.418   13  0.236  3.715\n",
       "12     44    R  Taylor  36.2  2.864   39  1.255    7  0.241  1.771"
      ]
     },
     "execution_count": 28,
     "metadata": {},
     "output_type": "execute_result"
    }
   ],
   "source": [
    "gc_stats_pitchers_only"
   ]
  },
  {
   "cell_type": "code",
   "execution_count": null,
   "metadata": {},
   "outputs": [],
   "source": []
  }
 ],
 "metadata": {
  "kernelspec": {
   "display_name": "Python 3",
   "language": "python",
   "name": "python3"
  },
  "language_info": {
   "codemirror_mode": {
    "name": "ipython",
    "version": 3
   },
   "file_extension": ".py",
   "mimetype": "text/x-python",
   "name": "python",
   "nbconvert_exporter": "python",
   "pygments_lexer": "ipython3",
   "version": "3.8.5"
  }
 },
 "nbformat": 4,
 "nbformat_minor": 4
}
